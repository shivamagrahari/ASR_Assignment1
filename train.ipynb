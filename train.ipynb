{
 "cells": [
  {
   "cell_type": "code",
   "execution_count": 3,
   "metadata": {},
   "outputs": [],
   "source": [
    "import pandas as pd\n",
    "import numpy as np"
   ]
  },
  {
   "cell_type": "code",
   "execution_count": 2,
   "metadata": {},
   "outputs": [],
   "source": [
    "timit_df = pd.read_hdf(\"./features/mfcc/timit_train.hdf\")"
   ]
  },
  {
   "cell_type": "code",
   "execution_count": 3,
   "metadata": {},
   "outputs": [
    {
     "data": {
      "text/html": [
       "<div>\n",
       "<style scoped>\n",
       "    .dataframe tbody tr th:only-of-type {\n",
       "        vertical-align: middle;\n",
       "    }\n",
       "\n",
       "    .dataframe tbody tr th {\n",
       "        vertical-align: top;\n",
       "    }\n",
       "\n",
       "    .dataframe thead th {\n",
       "        text-align: right;\n",
       "    }\n",
       "</style>\n",
       "<table border=\"1\" class=\"dataframe\">\n",
       "  <thead>\n",
       "    <tr style=\"text-align: right;\">\n",
       "      <th></th>\n",
       "      <th>features</th>\n",
       "      <th>labels</th>\n",
       "    </tr>\n",
       "  </thead>\n",
       "  <tbody>\n",
       "    <tr>\n",
       "      <th>0</th>\n",
       "      <td>[7.078657420964836, -25.02194729819945, -6.325...</td>\n",
       "      <td>sil</td>\n",
       "    </tr>\n",
       "    <tr>\n",
       "      <th>1</th>\n",
       "      <td>[7.1665441896812405, -25.248142811134816, -1.6...</td>\n",
       "      <td>sil</td>\n",
       "    </tr>\n",
       "    <tr>\n",
       "      <th>2</th>\n",
       "      <td>[7.184905955583264, -28.73273351008029, -3.906...</td>\n",
       "      <td>sil</td>\n",
       "    </tr>\n",
       "    <tr>\n",
       "      <th>3</th>\n",
       "      <td>[7.034989672359181, -28.19534088472759, -3.540...</td>\n",
       "      <td>sil</td>\n",
       "    </tr>\n",
       "    <tr>\n",
       "      <th>4</th>\n",
       "      <td>[7.003780771426295, -28.139888943590623, -0.70...</td>\n",
       "      <td>sil</td>\n",
       "    </tr>\n",
       "  </tbody>\n",
       "</table>\n",
       "</div>"
      ],
      "text/plain": [
       "                                            features labels\n",
       "0  [7.078657420964836, -25.02194729819945, -6.325...    sil\n",
       "1  [7.1665441896812405, -25.248142811134816, -1.6...    sil\n",
       "2  [7.184905955583264, -28.73273351008029, -3.906...    sil\n",
       "3  [7.034989672359181, -28.19534088472759, -3.540...    sil\n",
       "4  [7.003780771426295, -28.139888943590623, -0.70...    sil"
      ]
     },
     "execution_count": 3,
     "metadata": {},
     "output_type": "execute_result"
    }
   ],
   "source": [
    "timit_df.head()"
   ]
  },
  {
   "cell_type": "markdown",
   "metadata": {},
   "source": [
    "## Features with zeroth coloumn"
   ]
  },
  {
   "cell_type": "code",
   "execution_count": 4,
   "metadata": {},
   "outputs": [],
   "source": [
    "features = np.array(timit_df[\"features\"].tolist())\n",
    "labels = np.array(timit_df[\"labels\"].tolist())"
   ]
  },
  {
   "cell_type": "code",
   "execution_count": 5,
   "metadata": {},
   "outputs": [
    {
     "data": {
      "text/plain": [
       "(31440, 13)"
      ]
     },
     "execution_count": 5,
     "metadata": {},
     "output_type": "execute_result"
    }
   ],
   "source": [
    "features[labels == 'aa'].shape"
   ]
  },
  {
   "cell_type": "code",
   "execution_count": 6,
   "metadata": {},
   "outputs": [
    {
     "data": {
      "text/plain": [
       "['',\n",
       " 'sh',\n",
       " 'v',\n",
       " 'aw',\n",
       " 'eh',\n",
       " 'aa',\n",
       " 'f',\n",
       " 'ng',\n",
       " 'z',\n",
       " 'ae',\n",
       " 'b',\n",
       " 'iy',\n",
       " 'th',\n",
       " 'uw',\n",
       " 'uh',\n",
       " 'w',\n",
       " 'dh',\n",
       " 'l',\n",
       " 'p',\n",
       " 'r',\n",
       " 'ch',\n",
       " 's',\n",
       " 'oy',\n",
       " 'jh',\n",
       " 'sil',\n",
       " 'er',\n",
       " 'ay',\n",
       " 'ah',\n",
       " 'hh',\n",
       " 'm',\n",
       " 'ow',\n",
       " 'ey',\n",
       " 't',\n",
       " 'n',\n",
       " 'ih',\n",
       " 'd',\n",
       " 'k',\n",
       " 'g',\n",
       " 'dx',\n",
       " 'y']"
      ]
     },
     "execution_count": 6,
     "metadata": {},
     "output_type": "execute_result"
    }
   ],
   "source": [
    "(list(set(labels)))"
   ]
  },
  {
   "cell_type": "code",
   "execution_count": 7,
   "metadata": {},
   "outputs": [
    {
     "name": "stdout",
     "output_type": "stream",
     "text": [
      "['', 'aa', 'ae', 'ah', 'aw', 'ay', 'b', 'ch', 'd', 'dh', 'dx', 'eh', 'er', 'ey', 'f', 'g', 'hh', 'ih', 'iy', 'jh', 'k', 'l', 'm', 'n', 'ng', 'ow', 'oy', 'p', 'r', 's', 'sh', 'sil', 't', 'th', 'uh', 'uw', 'v', 'w', 'y', 'z']\n"
     ]
    }
   ],
   "source": [
    "p = list(set(labels))\n",
    "p.sort()\n",
    "print(p)"
   ]
  },
  {
   "cell_type": "markdown",
   "metadata": {},
   "source": [
    "# Creating Different data frames for different phoenemes"
   ]
  },
  {
   "cell_type": "code",
   "execution_count": 8,
   "metadata": {},
   "outputs": [],
   "source": [
    "feature_list = []\n",
    "for x in p:\n",
    "    feature_list.append(features[labels == x])\n"
   ]
  },
  {
   "cell_type": "markdown",
   "metadata": {},
   "source": [
    "# GMM Models based on each phonemes"
   ]
  },
  {
   "cell_type": "code",
   "execution_count": 11,
   "metadata": {},
   "outputs": [],
   "source": [
    "import sklearn\n",
    "from sklearn import mixture\n",
    "import pickle\n",
    "def model_generation(no_of_mixturemodels,maxiter,init,path):\n",
    "    print(\"aa\")\n",
    "    for i in range(0,40):\n",
    "        gmm = mixture.GaussianMixture(n_components = no_of_mixturemodels,max_iter=maxiter,covariance_type='diag',n_init = init)\n",
    "        gmm.fit(feature_list[i])\n",
    "        filename = path+\"model_of_\"+p[i]+\".pkl\"\n",
    "        pickle.dump(gmm, open(filename, 'wb'))\n",
    "        print(\"Generated model for \"+p[i])"
   ]
  },
  {
   "cell_type": "markdown",
   "metadata": {},
   "source": [
    "# Training MFCC with energy coefficient"
   ]
  },
  {
   "cell_type": "code",
   "execution_count": 10,
   "metadata": {},
   "outputs": [
    {
     "name": "stdout",
     "output_type": "stream",
     "text": [
      "Generated model for \n",
      "Generated model for aa\n",
      "Generated model for ae\n",
      "Generated model for ah\n",
      "Generated model for aw\n",
      "Generated model for ay\n",
      "Generated model for b\n",
      "Generated model for ch\n",
      "Generated model for d\n",
      "Generated model for dh\n",
      "Generated model for dx\n",
      "Generated model for eh\n",
      "Generated model for er\n",
      "Generated model for ey\n",
      "Generated model for f\n",
      "Generated model for g\n",
      "Generated model for hh\n",
      "Generated model for ih\n",
      "Generated model for iy\n",
      "Generated model for jh\n",
      "Generated model for k\n",
      "Generated model for l\n",
      "Generated model for m\n",
      "Generated model for n\n",
      "Generated model for ng\n",
      "Generated model for ow\n",
      "Generated model for oy\n",
      "Generated model for p\n",
      "Generated model for r\n",
      "Generated model for s\n",
      "Generated model for sh\n",
      "Generated model for sil\n",
      "Generated model for t\n",
      "Generated model for th\n",
      "Generated model for uh\n",
      "Generated model for uw\n",
      "Generated model for v\n",
      "Generated model for w\n",
      "Generated model for y\n",
      "Generated model for z\n"
     ]
    }
   ],
   "source": [
    "model_generation(64,200,3,\"./models/mfcc/with_energy_coeff/\")"
   ]
  },
  {
   "cell_type": "markdown",
   "metadata": {},
   "source": [
    "# MFCC without energy coefficient"
   ]
  },
  {
   "cell_type": "code",
   "execution_count": 6,
   "metadata": {},
   "outputs": [
    {
     "data": {
      "text/plain": [
       "(1236543, 13)"
      ]
     },
     "execution_count": 6,
     "metadata": {},
     "output_type": "execute_result"
    }
   ],
   "source": [
    "features.shape"
   ]
  },
  {
   "cell_type": "markdown",
   "metadata": {},
   "source": [
    "## Deleting 0th coloumn"
   ]
  },
  {
   "cell_type": "code",
   "execution_count": 7,
   "metadata": {},
   "outputs": [],
   "source": [
    "features_wo_zero_coloumn = features[:,1:]"
   ]
  },
  {
   "cell_type": "code",
   "execution_count": 8,
   "metadata": {},
   "outputs": [
    {
     "name": "stdout",
     "output_type": "stream",
     "text": [
      "['', 'aa', 'ae', 'ah', 'aw', 'ay', 'b', 'ch', 'd', 'dh', 'dx', 'eh', 'er', 'ey', 'f', 'g', 'hh', 'ih', 'iy', 'jh', 'k', 'l', 'm', 'n', 'ng', 'ow', 'oy', 'p', 'r', 's', 'sh', 'sil', 't', 'th', 'uh', 'uw', 'v', 'w', 'y', 'z']\n"
     ]
    }
   ],
   "source": [
    "p = list(set(labels))\n",
    "p.sort()\n",
    "print(p)"
   ]
  },
  {
   "cell_type": "code",
   "execution_count": 9,
   "metadata": {},
   "outputs": [],
   "source": [
    "feature_list = []\n",
    "for x in p:\n",
    "    feature_list.append(features[labels == x])"
   ]
  },
  {
   "cell_type": "code",
   "execution_count": 10,
   "metadata": {},
   "outputs": [],
   "source": [
    "components = [2,4,8,16,32,64,128,256]"
   ]
  },
  {
   "cell_type": "code",
   "execution_count": 13,
   "metadata": {},
   "outputs": [
    {
     "name": "stdout",
     "output_type": "stream",
     "text": [
      "./models/mfcc/without_energy_coeff/2/\n",
      "./models/mfcc/without_energy_coeff/4/\n",
      "./models/mfcc/without_energy_coeff/8/\n",
      "./models/mfcc/without_energy_coeff/16/\n",
      "./models/mfcc/without_energy_coeff/32/\n",
      "./models/mfcc/without_energy_coeff/64/\n",
      "./models/mfcc/without_energy_coeff/128/\n",
      "./models/mfcc/without_energy_coeff/256/\n"
     ]
    }
   ],
   "source": [
    "import os\n",
    "for component in components:\n",
    "    newpath = \"./models/mfcc/without_energy_coeff/\"+str(component)+\"/\"\n",
    "    print(newpath)\n",
    "    if not os.path.exists(newpath):\n",
    "        os.makedirs(newpath)\n",
    "        model_generation(component,200,3,newpath)"
   ]
  },
  {
   "cell_type": "markdown",
   "metadata": {},
   "source": [
    "# MFCC Delta \n"
   ]
  },
  {
   "cell_type": "code",
   "execution_count": 4,
   "metadata": {},
   "outputs": [],
   "source": [
    "timit_df = pd.read_hdf(\"./features/mfcc_delta/timit_train.hdf\")"
   ]
  },
  {
   "cell_type": "code",
   "execution_count": 6,
   "metadata": {},
   "outputs": [
    {
     "data": {
      "text/html": [
       "<div>\n",
       "<style scoped>\n",
       "    .dataframe tbody tr th:only-of-type {\n",
       "        vertical-align: middle;\n",
       "    }\n",
       "\n",
       "    .dataframe tbody tr th {\n",
       "        vertical-align: top;\n",
       "    }\n",
       "\n",
       "    .dataframe thead th {\n",
       "        text-align: right;\n",
       "    }\n",
       "</style>\n",
       "<table border=\"1\" class=\"dataframe\">\n",
       "  <thead>\n",
       "    <tr style=\"text-align: right;\">\n",
       "      <th></th>\n",
       "      <th>features</th>\n",
       "      <th>labels</th>\n",
       "    </tr>\n",
       "  </thead>\n",
       "  <tbody>\n",
       "    <tr>\n",
       "      <th>0</th>\n",
       "      <td>[7.078657420964836, -25.02194729819945, -6.325...</td>\n",
       "      <td>sil</td>\n",
       "    </tr>\n",
       "    <tr>\n",
       "      <th>1</th>\n",
       "      <td>[7.1665441896812405, -25.248142811134816, -1.6...</td>\n",
       "      <td>sil</td>\n",
       "    </tr>\n",
       "    <tr>\n",
       "      <th>2</th>\n",
       "      <td>[7.184905955583264, -28.73273351008029, -3.906...</td>\n",
       "      <td>sil</td>\n",
       "    </tr>\n",
       "    <tr>\n",
       "      <th>3</th>\n",
       "      <td>[7.034989672359181, -28.19534088472759, -3.540...</td>\n",
       "      <td>sil</td>\n",
       "    </tr>\n",
       "    <tr>\n",
       "      <th>4</th>\n",
       "      <td>[7.003780771426295, -28.139888943590623, -0.70...</td>\n",
       "      <td>sil</td>\n",
       "    </tr>\n",
       "  </tbody>\n",
       "</table>\n",
       "</div>"
      ],
      "text/plain": [
       "                                            features labels\n",
       "0  [7.078657420964836, -25.02194729819945, -6.325...    sil\n",
       "1  [7.1665441896812405, -25.248142811134816, -1.6...    sil\n",
       "2  [7.184905955583264, -28.73273351008029, -3.906...    sil\n",
       "3  [7.034989672359181, -28.19534088472759, -3.540...    sil\n",
       "4  [7.003780771426295, -28.139888943590623, -0.70...    sil"
      ]
     },
     "execution_count": 6,
     "metadata": {},
     "output_type": "execute_result"
    }
   ],
   "source": [
    "timit_df.head()"
   ]
  },
  {
   "cell_type": "code",
   "execution_count": 7,
   "metadata": {},
   "outputs": [],
   "source": [
    "features = np.array(timit_df[\"features\"].tolist())\n",
    "labels = np.array(timit_df[\"labels\"].tolist())"
   ]
  },
  {
   "cell_type": "code",
   "execution_count": 8,
   "metadata": {},
   "outputs": [
    {
     "data": {
      "text/plain": [
       "(31440, 26)"
      ]
     },
     "execution_count": 8,
     "metadata": {},
     "output_type": "execute_result"
    }
   ],
   "source": [
    "features[labels == 'aa'].shape"
   ]
  },
  {
   "cell_type": "code",
   "execution_count": 9,
   "metadata": {},
   "outputs": [
    {
     "name": "stdout",
     "output_type": "stream",
     "text": [
      "['', 'aa', 'ae', 'ah', 'aw', 'ay', 'b', 'ch', 'd', 'dh', 'dx', 'eh', 'er', 'ey', 'f', 'g', 'hh', 'ih', 'iy', 'jh', 'k', 'l', 'm', 'n', 'ng', 'ow', 'oy', 'p', 'r', 's', 'sh', 'sil', 't', 'th', 'uh', 'uw', 'v', 'w', 'y', 'z']\n"
     ]
    }
   ],
   "source": [
    "p = list(set(labels))\n",
    "p.sort()\n",
    "print(p)"
   ]
  },
  {
   "cell_type": "code",
   "execution_count": 10,
   "metadata": {},
   "outputs": [],
   "source": [
    "feature_list = []\n",
    "for x in p:\n",
    "    feature_list.append(features[labels == x])"
   ]
  },
  {
   "cell_type": "code",
   "execution_count": 19,
   "metadata": {},
   "outputs": [
    {
     "data": {
      "text/plain": [
       "(31047, 26)"
      ]
     },
     "execution_count": 19,
     "metadata": {},
     "output_type": "execute_result"
    }
   ],
   "source": []
  },
  {
   "cell_type": "code",
   "execution_count": 23,
   "metadata": {},
   "outputs": [
    {
     "name": "stdout",
     "output_type": "stream",
     "text": [
      "./models/mfcc_delta/with_energy_coeff/64/\n",
      "aa\n",
      "Generated model for \n",
      "Generated model for aa\n",
      "Generated model for ae\n",
      "Generated model for ah\n",
      "Generated model for aw\n",
      "Generated model for ay\n",
      "Generated model for b\n",
      "Generated model for ch\n",
      "Generated model for d\n",
      "Generated model for dh\n",
      "Generated model for dx\n",
      "Generated model for eh\n",
      "Generated model for er\n",
      "Generated model for ey\n",
      "Generated model for f\n",
      "Generated model for g\n",
      "Generated model for hh\n",
      "Generated model for ih\n",
      "Generated model for iy\n",
      "Generated model for jh\n",
      "Generated model for k\n",
      "Generated model for l\n",
      "Generated model for m\n",
      "Generated model for n\n",
      "Generated model for ng\n",
      "Generated model for ow\n",
      "Generated model for oy\n",
      "Generated model for p\n",
      "Generated model for r\n",
      "Generated model for s\n",
      "Generated model for sh\n",
      "Generated model for sil\n",
      "Generated model for t\n",
      "Generated model for th\n",
      "Generated model for uh\n",
      "Generated model for uw\n",
      "Generated model for v\n",
      "Generated model for w\n",
      "Generated model for y\n",
      "Generated model for z\n"
     ]
    }
   ],
   "source": [
    "import os\n",
    "component = 64\n",
    "newpath = \"./models/mfcc_delta/with_energy_coeff/\"+str(component)+\"/\"\n",
    "print(newpath)\n",
    "#os.makedirs(newpath)\n",
    "model_generation(component,200,3,newpath)"
   ]
  },
  {
   "cell_type": "markdown",
   "metadata": {},
   "source": [
    "## Dropping 0th and 14th coefficient"
   ]
  },
  {
   "cell_type": "code",
   "execution_count": 29,
   "metadata": {},
   "outputs": [],
   "source": [
    "features_wo_energy_coeff = np.delete(features, [0,14], axis=1)"
   ]
  },
  {
   "cell_type": "code",
   "execution_count": 30,
   "metadata": {},
   "outputs": [
    {
     "data": {
      "text/plain": [
       "(1236543, 24)"
      ]
     },
     "execution_count": 30,
     "metadata": {},
     "output_type": "execute_result"
    }
   ],
   "source": [
    "features_wo_energy_coeff.shape"
   ]
  },
  {
   "cell_type": "code",
   "execution_count": 31,
   "metadata": {},
   "outputs": [
    {
     "data": {
      "text/plain": [
       "(31440, 24)"
      ]
     },
     "execution_count": 31,
     "metadata": {},
     "output_type": "execute_result"
    }
   ],
   "source": [
    "features_wo_energy_coeff[labels == 'aa'].shape"
   ]
  },
  {
   "cell_type": "code",
   "execution_count": 32,
   "metadata": {},
   "outputs": [],
   "source": [
    "feature_list = []\n",
    "for x in p:\n",
    "    feature_list.append(features_wo_energy_coeff[labels == x])"
   ]
  },
  {
   "cell_type": "code",
   "execution_count": 33,
   "metadata": {},
   "outputs": [
    {
     "name": "stdout",
     "output_type": "stream",
     "text": [
      "./models/mfcc_delta/without_energy_coeff/64/\n",
      "aa\n",
      "Generated model for \n",
      "Generated model for aa\n",
      "Generated model for ae\n",
      "Generated model for ah\n",
      "Generated model for aw\n",
      "Generated model for ay\n",
      "Generated model for b\n",
      "Generated model for ch\n",
      "Generated model for d\n",
      "Generated model for dh\n",
      "Generated model for dx\n",
      "Generated model for eh\n",
      "Generated model for er\n",
      "Generated model for ey\n",
      "Generated model for f\n",
      "Generated model for g\n",
      "Generated model for hh\n",
      "Generated model for ih\n",
      "Generated model for iy\n",
      "Generated model for jh\n",
      "Generated model for k\n",
      "Generated model for l\n",
      "Generated model for m\n",
      "Generated model for n\n",
      "Generated model for ng\n",
      "Generated model for ow\n",
      "Generated model for oy\n",
      "Generated model for p\n",
      "Generated model for r\n",
      "Generated model for s\n",
      "Generated model for sh\n",
      "Generated model for sil\n",
      "Generated model for t\n",
      "Generated model for th\n",
      "Generated model for uh\n",
      "Generated model for uw\n",
      "Generated model for v\n",
      "Generated model for w\n",
      "Generated model for y\n",
      "Generated model for z\n"
     ]
    }
   ],
   "source": [
    "import os\n",
    "component = 64\n",
    "newpath = \"./models/mfcc_delta/without_energy_coeff/\"+str(component)+\"/\"\n",
    "print(newpath)\n",
    "os.makedirs(newpath)\n",
    "model_generation(component,200,3,newpath)"
   ]
  },
  {
   "cell_type": "markdown",
   "metadata": {},
   "source": [
    "# MFCC Delta_Delta "
   ]
  },
  {
   "cell_type": "code",
   "execution_count": 4,
   "metadata": {},
   "outputs": [],
   "source": [
    "timit_df = pd.read_hdf(\"./features/mfcc_delta_delta/timit_train.hdf\")"
   ]
  },
  {
   "cell_type": "code",
   "execution_count": 5,
   "metadata": {},
   "outputs": [
    {
     "data": {
      "text/plain": [
       "(1236543, 2)"
      ]
     },
     "execution_count": 5,
     "metadata": {},
     "output_type": "execute_result"
    }
   ],
   "source": [
    "timit_df.shape"
   ]
  },
  {
   "cell_type": "code",
   "execution_count": 6,
   "metadata": {},
   "outputs": [],
   "source": [
    "features = np.array(timit_df[\"features\"].tolist())\n",
    "labels = np.array(timit_df[\"labels\"].tolist())"
   ]
  },
  {
   "cell_type": "code",
   "execution_count": 7,
   "metadata": {},
   "outputs": [
    {
     "name": "stdout",
     "output_type": "stream",
     "text": [
      "['', 'aa', 'ae', 'ah', 'aw', 'ay', 'b', 'ch', 'd', 'dh', 'dx', 'eh', 'er', 'ey', 'f', 'g', 'hh', 'ih', 'iy', 'jh', 'k', 'l', 'm', 'n', 'ng', 'ow', 'oy', 'p', 'r', 's', 'sh', 'sil', 't', 'th', 'uh', 'uw', 'v', 'w', 'y', 'z']\n"
     ]
    }
   ],
   "source": [
    "p = list(set(labels))\n",
    "p.sort()\n",
    "print(p)"
   ]
  },
  {
   "cell_type": "code",
   "execution_count": 8,
   "metadata": {},
   "outputs": [],
   "source": [
    "feature_list = []\n",
    "for x in p:\n",
    "    feature_list.append(features[labels == x])"
   ]
  },
  {
   "cell_type": "code",
   "execution_count": 13,
   "metadata": {},
   "outputs": [
    {
     "name": "stdout",
     "output_type": "stream",
     "text": [
      "./models/mfcc_delta_delta/with_energy_coeff/64/\n",
      "aa\n",
      "Generated model for \n",
      "Generated model for aa\n",
      "Generated model for ae\n",
      "Generated model for ah\n",
      "Generated model for aw\n",
      "Generated model for ay\n",
      "Generated model for b\n",
      "Generated model for ch\n",
      "Generated model for d\n",
      "Generated model for dh\n",
      "Generated model for dx\n",
      "Generated model for eh\n",
      "Generated model for er\n",
      "Generated model for ey\n",
      "Generated model for f\n",
      "Generated model for g\n",
      "Generated model for hh\n",
      "Generated model for ih\n",
      "Generated model for iy\n",
      "Generated model for jh\n",
      "Generated model for k\n",
      "Generated model for l\n",
      "Generated model for m\n",
      "Generated model for n\n",
      "Generated model for ng\n",
      "Generated model for ow\n",
      "Generated model for oy\n",
      "Generated model for p\n",
      "Generated model for r\n",
      "Generated model for s\n",
      "Generated model for sh\n",
      "Generated model for sil\n",
      "Generated model for t\n",
      "Generated model for th\n",
      "Generated model for uh\n",
      "Generated model for uw\n",
      "Generated model for v\n",
      "Generated model for w\n",
      "Generated model for y\n",
      "Generated model for z\n"
     ]
    }
   ],
   "source": [
    "import os\n",
    "component = 64\n",
    "newpath = \"./models/mfcc_delta_delta/with_energy_coeff/\"+str(component)+\"/\"\n",
    "print(newpath)\n",
    "#os.makedirs(newpath)\n",
    "model_generation(component,200,3,newpath)"
   ]
  },
  {
   "cell_type": "markdown",
   "metadata": {},
   "source": [
    "## MFCC Delta Delta without energy coefficient"
   ]
  },
  {
   "cell_type": "code",
   "execution_count": 14,
   "metadata": {},
   "outputs": [],
   "source": [
    "features_wo_energy_coeff = np.delete(features, [0,14,27], axis=1)"
   ]
  },
  {
   "cell_type": "code",
   "execution_count": 15,
   "metadata": {},
   "outputs": [],
   "source": [
    "feature_list = []\n",
    "for x in p:\n",
    "    feature_list.append(features_wo_energy_coeff[labels == x])"
   ]
  },
  {
   "cell_type": "code",
   "execution_count": 19,
   "metadata": {},
   "outputs": [
    {
     "name": "stdout",
     "output_type": "stream",
     "text": [
      "./models/mfcc_delta_delta/without_energy_coeff/64/\n",
      "aa\n",
      "Generated model for \n",
      "Generated model for aa\n",
      "Generated model for ae\n",
      "Generated model for ah\n",
      "Generated model for aw\n",
      "Generated model for ay\n",
      "Generated model for b\n",
      "Generated model for ch\n",
      "Generated model for d\n",
      "Generated model for dh\n",
      "Generated model for dx\n",
      "Generated model for eh\n",
      "Generated model for er\n",
      "Generated model for ey\n",
      "Generated model for f\n",
      "Generated model for g\n",
      "Generated model for hh\n",
      "Generated model for ih\n",
      "Generated model for iy\n",
      "Generated model for jh\n",
      "Generated model for k\n",
      "Generated model for l\n",
      "Generated model for m\n",
      "Generated model for n\n",
      "Generated model for ng\n",
      "Generated model for ow\n",
      "Generated model for oy\n",
      "Generated model for p\n",
      "Generated model for r\n",
      "Generated model for s\n",
      "Generated model for sh\n",
      "Generated model for sil\n",
      "Generated model for t\n",
      "Generated model for th\n",
      "Generated model for uh\n",
      "Generated model for uw\n",
      "Generated model for v\n",
      "Generated model for w\n",
      "Generated model for y\n",
      "Generated model for z\n"
     ]
    }
   ],
   "source": [
    "import os\n",
    "component = 64\n",
    "newpath = \"./models/mfcc_delta_delta/without_energy_coeff/\"+str(component)+\"/\"\n",
    "print(newpath)\n",
    "os.makedirs(newpath)\n",
    "model_generation(component,200,3,newpath)"
   ]
  },
  {
   "cell_type": "code",
   "execution_count": null,
   "metadata": {},
   "outputs": [],
   "source": []
  }
 ],
 "metadata": {
  "kernelspec": {
   "display_name": "Python 3",
   "language": "python",
   "name": "python3"
  },
  "language_info": {
   "codemirror_mode": {
    "name": "ipython",
    "version": 3
   },
   "file_extension": ".py",
   "mimetype": "text/x-python",
   "name": "python",
   "nbconvert_exporter": "python",
   "pygments_lexer": "ipython3",
   "version": "3.6.6"
  }
 },
 "nbformat": 4,
 "nbformat_minor": 2
}
