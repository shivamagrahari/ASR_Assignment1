{
 "cells": [
  {
   "cell_type": "code",
   "execution_count": 1,
   "metadata": {},
   "outputs": [],
   "source": [
    "import pandas as pd\n",
    "import numpy as np"
   ]
  },
  {
   "cell_type": "code",
   "execution_count": 35,
   "metadata": {},
   "outputs": [],
   "source": [
    "timit_df_test = pd.read_hdf(\"./features/mfcc_delta_delta/timit_test.hdf\")"
   ]
  },
  {
   "cell_type": "code",
   "execution_count": 5,
   "metadata": {
    "scrolled": true
   },
   "outputs": [
    {
     "name": "stdout",
     "output_type": "stream",
     "text": [
      "451660\n"
     ]
    }
   ],
   "source": [
    "timit_df_test.head()\n",
    "length = timit_df_test.shape[0]\n",
    "print(length)"
   ]
  },
  {
   "cell_type": "code",
   "execution_count": 6,
   "metadata": {},
   "outputs": [],
   "source": [
    "labels = np.array(timit_df_test[\"labels\"].tolist())\n",
    "p = list(set(labels))\n",
    "p.sort()"
   ]
  },
  {
   "cell_type": "code",
   "execution_count": 38,
   "metadata": {},
   "outputs": [],
   "source": [
    "import pickle\n",
    "gmm_models = dict()\n",
    "for i in range(0,40):\n",
    "    filepath = \"./models/mfcc_delta_delta/with_energy_coeff/64/model_of_\"+p[i]+\".pkl\"\n",
    "    gmm_pickle = open(filepath, 'rb')\n",
    "    gmm_model = pickle.load(gmm_pickle)\n",
    "    gmm_models[p[i]] = gmm_model"
   ]
  },
  {
   "cell_type": "code",
   "execution_count": 39,
   "metadata": {},
   "outputs": [],
   "source": [
    "len_p = len(p)\n",
    "classified = 0\n",
    "misclassified = 0\n",
    "for i in range(0,length):\n",
    "    x = timit_df_test['features'][i]\n",
    "    label = timit_df_test['labels'][i]\n",
    "    test_data = []\n",
    "    test_data.append(x)\n",
    "    result = dict()\n",
    "    for j in range(0,len_p):\n",
    "        gmm_model = gmm_models[p[j]]\n",
    "        result[p[j]] = gmm_model.score_samples(test_data)\n",
    "    #print(max(result, key=result.get)+\" \"+label)\n",
    "    if(max(result, key=result.get) == label):\n",
    "        classified = classified+1\n",
    "    else:\n",
    "        misclassified = misclassified+1"
   ]
  },
  {
   "cell_type": "code",
   "execution_count": 15,
   "metadata": {},
   "outputs": [
    {
     "ename": "KeyError",
     "evalue": "'aa'",
     "output_type": "error",
     "traceback": [
      "\u001b[0;31m---------------------------------------------------------------------------\u001b[0m",
      "\u001b[0;31mKeyError\u001b[0m                                  Traceback (most recent call last)",
      "\u001b[0;32m<ipython-input-15-8c49332eba85>\u001b[0m in \u001b[0;36m<module>\u001b[0;34m\u001b[0m\n\u001b[1;32m      8\u001b[0m         \u001b[0mgmm_model\u001b[0m \u001b[0;34m=\u001b[0m \u001b[0mpickle\u001b[0m\u001b[0;34m.\u001b[0m\u001b[0mload\u001b[0m\u001b[0;34m(\u001b[0m\u001b[0mgmm_pickle\u001b[0m\u001b[0;34m)\u001b[0m\u001b[0;34m\u001b[0m\u001b[0m\n\u001b[1;32m      9\u001b[0m         \u001b[0mgmm_models\u001b[0m\u001b[0;34m[\u001b[0m\u001b[0mp\u001b[0m\u001b[0;34m[\u001b[0m\u001b[0mi\u001b[0m\u001b[0;34m]\u001b[0m\u001b[0;34m]\u001b[0m \u001b[0;34m=\u001b[0m \u001b[0mgmm_model\u001b[0m\u001b[0;34m\u001b[0m\u001b[0m\n\u001b[0;32m---> 10\u001b[0;31m         \u001b[0mprint\u001b[0m\u001b[0;34m(\u001b[0m\u001b[0mtest\u001b[0m\u001b[0;34m(\u001b[0m\u001b[0mp\u001b[0m\u001b[0;34m,\u001b[0m\u001b[0mtimit_df_test\u001b[0m\u001b[0;34m,\u001b[0m\u001b[0mgmm_models\u001b[0m\u001b[0;34m)\u001b[0m\u001b[0;34m)\u001b[0m\u001b[0;34m\u001b[0m\u001b[0m\n\u001b[0m",
      "\u001b[0;32m<ipython-input-11-ef7df53d93f4>\u001b[0m in \u001b[0;36mtest\u001b[0;34m(p, timit_df_test, gmm_models)\u001b[0m\n\u001b[1;32m     10\u001b[0m         \u001b[0mresult\u001b[0m \u001b[0;34m=\u001b[0m \u001b[0mdict\u001b[0m\u001b[0;34m(\u001b[0m\u001b[0;34m)\u001b[0m\u001b[0;34m\u001b[0m\u001b[0m\n\u001b[1;32m     11\u001b[0m         \u001b[0;32mfor\u001b[0m \u001b[0mj\u001b[0m \u001b[0;32min\u001b[0m \u001b[0mrange\u001b[0m\u001b[0;34m(\u001b[0m\u001b[0;36m0\u001b[0m\u001b[0;34m,\u001b[0m\u001b[0mlen_p\u001b[0m\u001b[0;34m)\u001b[0m\u001b[0;34m:\u001b[0m\u001b[0;34m\u001b[0m\u001b[0m\n\u001b[0;32m---> 12\u001b[0;31m             \u001b[0mgmm_model\u001b[0m \u001b[0;34m=\u001b[0m \u001b[0mgmm_models\u001b[0m\u001b[0;34m[\u001b[0m\u001b[0mp\u001b[0m\u001b[0;34m[\u001b[0m\u001b[0mj\u001b[0m\u001b[0;34m]\u001b[0m\u001b[0;34m]\u001b[0m\u001b[0;34m\u001b[0m\u001b[0m\n\u001b[0m\u001b[1;32m     13\u001b[0m             \u001b[0mresult\u001b[0m\u001b[0;34m[\u001b[0m\u001b[0mp\u001b[0m\u001b[0;34m[\u001b[0m\u001b[0mj\u001b[0m\u001b[0;34m]\u001b[0m\u001b[0;34m]\u001b[0m \u001b[0;34m=\u001b[0m \u001b[0mgmm_model\u001b[0m\u001b[0;34m.\u001b[0m\u001b[0mscore_samples\u001b[0m\u001b[0;34m(\u001b[0m\u001b[0mtest_data\u001b[0m\u001b[0;34m)\u001b[0m\u001b[0;34m\u001b[0m\u001b[0m\n\u001b[1;32m     14\u001b[0m     \u001b[0;31m#print(max(result, key=result.get)+\" \"+label)\u001b[0m\u001b[0;34m\u001b[0m\u001b[0;34m\u001b[0m\u001b[0m\n",
      "\u001b[0;31mKeyError\u001b[0m: 'aa'"
     ]
    }
   ],
   "source": [
    "import pickle\n",
    "components = [2,4,8,16,32,64,128,256]\n",
    "for comp in components:\n",
    "    gmm_models = dict()\n",
    "    for i in range(0,40):\n",
    "        filepath = \"./models/mfcc/without_energy_coeff/\"+str(comp)+\"/model_of_\"+p[i]+\".pkl\"\n",
    "        gmm_pickle = open(filepath, 'rb')\n",
    "        gmm_model = pickle.load(gmm_pickle)\n",
    "        gmm_models[p[i]] = gmm_model\n",
    "        print(test(p,timit_df_test,gmm_models))"
   ]
  },
  {
   "cell_type": "markdown",
   "metadata": {},
   "source": [
    "## MFCC Delta Delta with energy coeff"
   ]
  },
  {
   "cell_type": "code",
   "execution_count": 40,
   "metadata": {},
   "outputs": [
    {
     "data": {
      "text/plain": [
       "0.19226409245892928"
      ]
     },
     "execution_count": 40,
     "metadata": {},
     "output_type": "execute_result"
    }
   ],
   "source": [
    "classified/(classified+misclassified)"
   ]
  },
  {
   "cell_type": "markdown",
   "metadata": {},
   "source": [
    "## MFCC Delta Delta without energy coefficinet"
   ]
  },
  {
   "cell_type": "code",
   "execution_count": 41,
   "metadata": {
    "scrolled": false
   },
   "outputs": [],
   "source": [
    "import pickle\n",
    "gmm_models = dict()\n",
    "for i in range(0,40):\n",
    "    filepath = \"./models/mfcc_delta_delta/without_energy_coeff/64/model_of_\"+p[i]+\".pkl\"\n",
    "    gmm_pickle = open(filepath, 'rb')\n",
    "    gmm_model = pickle.load(gmm_pickle)\n",
    "    gmm_models[p[i]] = gmm_model"
   ]
  },
  {
   "cell_type": "code",
   "execution_count": 42,
   "metadata": {},
   "outputs": [],
   "source": [
    "len_p = len(p)\n",
    "classified = 0\n",
    "misclassified = 0\n",
    "for i in range(0,length):\n",
    "    x = timit_df_test['features'][i]\n",
    "    x = np.delete(x,[0,14,27],axis = 0)\n",
    "    label = timit_df_test['labels'][i]\n",
    "    test_data = []\n",
    "    test_data.append(x)\n",
    "    result = dict()\n",
    "    for j in range(0,len_p):\n",
    "        gmm_model = gmm_models[p[j]]\n",
    "        result[p[j]] = gmm_model.score_samples(test_data)\n",
    "    #print(max(result, key=result.get)+\" \"+label)\n",
    "    if(max(result, key=result.get) == label):\n",
    "        classified = classified+1\n",
    "    else:\n",
    "        misclassified = misclassified+1"
   ]
  },
  {
   "cell_type": "code",
   "execution_count": 43,
   "metadata": {},
   "outputs": [
    {
     "data": {
      "text/plain": [
       "0.17335385024133199"
      ]
     },
     "execution_count": 43,
     "metadata": {},
     "output_type": "execute_result"
    }
   ],
   "source": [
    "classified/(classified+misclassified)\n"
   ]
  },
  {
   "cell_type": "markdown",
   "metadata": {},
   "source": [
    "# Phoneme error rate"
   ]
  },
  {
   "cell_type": "code",
   "execution_count": 2,
   "metadata": {},
   "outputs": [],
   "source": [
    "timit_df_test = pd.read_hdf(\"./features/newfolder/timit_test.hdf\")"
   ]
  },
  {
   "cell_type": "code",
   "execution_count": 5,
   "metadata": {},
   "outputs": [],
   "source": [
    "a = timit_df_test.loc[timit_df_test['ids'] == 0]"
   ]
  },
  {
   "cell_type": "code",
   "execution_count": 6,
   "metadata": {},
   "outputs": [],
   "source": [
    "x = a['features'].values"
   ]
  },
  {
   "cell_type": "code",
   "execution_count": 8,
   "metadata": {},
   "outputs": [
    {
     "data": {
      "text/plain": [
       "array([  7.34748303, -31.97703824,   0.55514808,  -2.71265157,\n",
       "         4.71464931,  -1.5030898 ,   5.68299268,   7.73508079,\n",
       "         5.68770034,  -1.90907667,  -7.92640931,  -3.45731626,\n",
       "        -9.00149738])"
      ]
     },
     "execution_count": 8,
     "metadata": {},
     "output_type": "execute_result"
    }
   ],
   "source": [
    "x[0]"
   ]
  },
  {
   "cell_type": "code",
   "execution_count": 9,
   "metadata": {},
   "outputs": [],
   "source": [
    "labels = np.array(timit_df_test[\"labels\"].tolist())\n",
    "p = list(set(labels))\n",
    "p.sort()"
   ]
  },
  {
   "cell_type": "code",
   "execution_count": 11,
   "metadata": {},
   "outputs": [],
   "source": [
    "import pickle\n",
    "gmm_models = dict()\n",
    "for i in range(0,40):\n",
    "    filepath = \"./models/mfcc/without_energy_coeff/64/model_of_\"+p[i]+\".pkl\"\n",
    "    gmm_pickle = open(filepath, 'rb')\n",
    "    gmm_model = pickle.load(gmm_pickle)\n",
    "    gmm_models[p[i]] = gmm_model"
   ]
  },
  {
   "cell_type": "code",
   "execution_count": 23,
   "metadata": {},
   "outputs": [],
   "source": [
    "def predicted_truth(p,length,a,s):\n",
    "    len_p = len(p)\n",
    "    for i in range(0,length):\n",
    "        x = a['features'][i]\n",
    "        test_data = []\n",
    "        test_data.append(x)\n",
    "        result = dict()\n",
    "        for j in range(0,len_p):\n",
    "            gmm_model = gmm_models[p[j]]\n",
    "            result[p[j]] = gmm_model.score_samples(test_data)\n",
    "    #print(max(result, key=result.get)+\" \"+label)\n",
    "        b = max(result, key=result.get)\n",
    "        fo = open(s,\"a+\")\n",
    "        fo.write(b+\" \")\n",
    "    fo.write(\"\\n\")\n",
    "    fo.close()"
   ]
  },
  {
   "cell_type": "code",
   "execution_count": 39,
   "metadata": {},
   "outputs": [],
   "source": [
    "for i in range(0,1680):\n",
    "    a = timit_df_test.loc[timit_df_test['ids'] == i]\n",
    "    length = a.shape[0]\n",
    "    a = a.reset_index(drop=True)\n",
    "    predicted_truth(p,length,a,\"predicted_truth\")"
   ]
  },
  {
   "cell_type": "markdown",
   "metadata": {},
   "source": [
    "## MFCC_Delta with energy coefficient"
   ]
  },
  {
   "cell_type": "code",
   "execution_count": 40,
   "metadata": {},
   "outputs": [],
   "source": [
    "import pickle\n",
    "gmm_models = dict()\n",
    "for i in range(0,40):\n",
    "    filepath = \"./models/mfcc_Delta/with_energy_coeff/64/model_of_\"+p[i]+\".pkl\"\n",
    "    gmm_pickle = open(filepath, 'rb')\n",
    "    gmm_model = pickle.load(gmm_pickle)\n",
    "    gmm_models[p[i]] = gmm_model"
   ]
  },
  {
   "cell_type": "code",
   "execution_count": 41,
   "metadata": {},
   "outputs": [],
   "source": [
    "def predicted_truth(p,length,a,s):\n",
    "    len_p = len(p)\n",
    "    for i in range(0,length):\n",
    "        x = a['features'][i]\n",
    "        test_data = []\n",
    "        test_data.append(x)\n",
    "        result = dict()\n",
    "        for j in range(0,len_p):\n",
    "            gmm_model = gmm_models[p[j]]\n",
    "            result[p[j]] = gmm_model.score_samples(test_data)\n",
    "    #print(max(result, key=result.get)+\" \"+label)\n",
    "        b = max(result, key=result.get)\n",
    "        fo = open(s,\"a+\")\n",
    "        fo.write(b+\" \")\n",
    "    fo.write(\"\\n\")\n",
    "    fo.close()"
   ]
  },
  {
   "cell_type": "code",
   "execution_count": 42,
   "metadata": {},
   "outputs": [],
   "source": [
    "for i in range(0,1680):\n",
    "    a = timit_df_test.loc[timit_df_test['ids'] == i]\n",
    "    length = a.shape[0]\n",
    "    a = a.reset_index(drop=True)\n",
    "    predicted_truth(p,length,a,\"predicted_truth\")"
   ]
  },
  {
   "cell_type": "markdown",
   "metadata": {},
   "source": [
    "## MFCC_Delta_Delta with energy coefficient"
   ]
  },
  {
   "cell_type": "code",
   "execution_count": 44,
   "metadata": {},
   "outputs": [],
   "source": [
    "import pickle\n",
    "gmm_models = dict()\n",
    "for i in range(0,40):\n",
    "    filepath = \"./models/mfcc_Delta_Delta/with_energy_coeff/64/model_of_\"+p[i]+\".pkl\"\n",
    "    gmm_pickle = open(filepath, 'rb')\n",
    "    gmm_model = pickle.load(gmm_pickle)\n",
    "    gmm_models[p[i]] = gmm_model"
   ]
  },
  {
   "cell_type": "code",
   "execution_count": 45,
   "metadata": {},
   "outputs": [],
   "source": [
    "for i in range(0,1680):\n",
    "    a = timit_df_test.loc[timit_df_test['ids'] == i]\n",
    "    length = a.shape[0]\n",
    "    a = a.reset_index(drop=True)\n",
    "    predicted_truth(p,length,a,\"predicted_truth\")"
   ]
  },
  {
   "cell_type": "markdown",
   "metadata": {},
   "source": [
    "## MFCC_Delta_Delta with energy coefficient"
   ]
  },
  {
   "cell_type": "code",
   "execution_count": 46,
   "metadata": {},
   "outputs": [],
   "source": [
    "import pickle\n",
    "gmm_models = dict()\n",
    "for i in range(0,40):\n",
    "    filepath = \"./models/mfcc_Delta_Delta/without_energy_coeff/64/model_of_\"+p[i]+\".pkl\"\n",
    "    gmm_pickle = open(filepath, 'rb')\n",
    "    gmm_model = pickle.load(gmm_pickle)\n",
    "    gmm_models[p[i]] = gmm_model"
   ]
  },
  {
   "cell_type": "code",
   "execution_count": 47,
   "metadata": {},
   "outputs": [],
   "source": [
    "for i in range(0,1680):\n",
    "    a = timit_df_test.loc[timit_df_test['ids'] == i]\n",
    "    length = a.shape[0]\n",
    "    a = a.reset_index(drop=True)\n",
    "    predicted_truth(p,length,a,\"predicted_truth\")"
   ]
  }
 ],
 "metadata": {
  "kernelspec": {
   "display_name": "Python 3",
   "language": "python",
   "name": "python3"
  },
  "language_info": {
   "codemirror_mode": {
    "name": "ipython",
    "version": 3
   },
   "file_extension": ".py",
   "mimetype": "text/x-python",
   "name": "python",
   "nbconvert_exporter": "python",
   "pygments_lexer": "ipython3",
   "version": "3.6.6"
  }
 },
 "nbformat": 4,
 "nbformat_minor": 2
}
